{
  "cells": [
    {
      "cell_type": "code",
      "execution_count": 14,
      "metadata": {
        "colab": {
          "base_uri": "https://localhost:8080/"
        },
        "id": "zWIo-2fJ2QuT",
        "outputId": "2246d2cb-0da5-4c2f-8077-805db2e63027"
      },
      "outputs": [],
      "source": [
        "from keras.utils import normalize\n",
        "import os\n",
        "from PIL import Image\n",
        "import numpy as np\n",
        "from matplotlib import pyplot as plt\n",
        "import numpy as np\n",
        "import tensorflow as tf\n",
        "\n",
        "\n",
        "def load_and_resize_images(directory, target_size=(150, 150)):\n",
        "    X = []\n",
        "    y = []\n",
        "    spill_dir = directory+\"/Spill\"\n",
        "    no_spill_dir = directory+\"/NoSpill\"\n",
        "    for filename in os.listdir(no_spill_dir):\n",
        "        if filename.endswith(('.png', '.jpg', '.jpeg')):\n",
        "            image_path = os.path.join(no_spill_dir, filename)\n",
        "            img = Image.open(image_path)\n",
        "            img = img.resize(target_size)\n",
        "            img_array = np.array(img)\n",
        "            X.append(img_array)\n",
        "            y.append(0)  \n",
        "    for filename in os.listdir(spill_dir):\n",
        "        if filename.endswith(('.png', '.jpg', '.jpeg')):\n",
        "            image_path = os.path.join(spill_dir, filename)\n",
        "            img = Image.open(image_path)\n",
        "            img = img.resize(target_size)\n",
        "            img_array = np.array(img)\n",
        "            X.append(img_array)\n",
        "            y.append(1)  \n",
        "    return np.array(X), np.array(y)\n",
        "\n",
        "directory='./dataset/train'\n",
        "X_train,y_train=load_and_resize_images(directory)\n",
        "directory='./dataset/test'\n",
        "X_test,y_test=load_and_resize_images(directory)"
      ]
    },
    {
      "cell_type": "code",
      "execution_count": 15,
      "metadata": {
        "colab": {
          "base_uri": "https://localhost:8080/"
        },
        "id": "gcjcoBI3BRPp",
        "outputId": "6abfe748-1b6c-4d29-d01d-8ad73aaa3918"
      },
      "outputs": [
        {
          "name": "stdout",
          "output_type": "stream",
          "text": [
            "(600, 150, 150, 3)\n"
          ]
        }
      ],
      "source": [
        "print(X_test.shape)"
      ]
    },
    {
      "cell_type": "code",
      "execution_count": 16,
      "metadata": {
        "id": "ST4wJe3c3uC-"
      },
      "outputs": [],
      "source": [
        "model = tf.keras.models.Sequential([\n",
        "    tf.keras.layers.Conv2D(16,(3,3), activation = \"relu\", input_shape=(150,150,3)),\n",
        "    tf.keras.layers.MaxPooling2D(2,2),\n",
        "    tf.keras.layers.Conv2D(32,(3,3), activation = \"relu\"),\n",
        "    tf.keras.layers.MaxPooling2D(2,2),\n",
        "    tf.keras.layers.Conv2D(64,(3,3), activation = \"relu\"),\n",
        "    tf.keras.layers.MaxPooling2D(2,2),\n",
        "    tf.keras.layers.Flatten(),\n",
        "    tf.keras.layers.Dense(512, activation=\"relu\"),\n",
        "    tf.keras.layers.Dense(1,activation = 'sigmoid')\n",
        "])\n",
        "\n",
        "model.compile(optimizer='adam', loss='binary_crossentropy', metrics=['accuracy'])"
      ]
    },
    {
      "cell_type": "code",
      "execution_count": 17,
      "metadata": {
        "colab": {
          "base_uri": "https://localhost:8080/",
          "height": 854
        },
        "id": "4yTKD7KP6RQQ",
        "outputId": "9e0102ec-b3ed-499b-979d-9b79db0e8c83"
      },
      "outputs": [
        {
          "name": "stdout",
          "output_type": "stream",
          "text": [
            "Epoch 1/10\n",
            "8/8 [==============================] - 46s 5s/step - loss: 432.6834 - accuracy: 0.4950 - val_loss: 2.8649 - val_accuracy: 0.5000\n",
            "Epoch 2/10\n",
            "8/8 [==============================] - 34s 4s/step - loss: 2.3273 - accuracy: 0.5079 - val_loss: 0.6069 - val_accuracy: 0.7100\n",
            "Epoch 3/10\n",
            "8/8 [==============================] - 31s 4s/step - loss: 0.5303 - accuracy: 0.7471 - val_loss: 0.3347 - val_accuracy: 0.8800\n",
            "Epoch 4/10\n",
            "8/8 [==============================] - 30s 4s/step - loss: 0.3104 - accuracy: 0.8854 - val_loss: 0.3189 - val_accuracy: 0.8767\n",
            "Epoch 5/10\n",
            "8/8 [==============================] - 30s 4s/step - loss: 0.1920 - accuracy: 0.9307 - val_loss: 0.1639 - val_accuracy: 0.9400\n",
            "Epoch 6/10\n",
            "8/8 [==============================] - 29s 4s/step - loss: 0.0995 - accuracy: 0.9621 - val_loss: 0.0726 - val_accuracy: 0.9633\n",
            "Epoch 7/10\n",
            "8/8 [==============================] - 30s 4s/step - loss: 0.0455 - accuracy: 0.9861 - val_loss: 0.0421 - val_accuracy: 0.9900\n",
            "Epoch 8/10\n",
            "8/8 [==============================] - 29s 4s/step - loss: 0.0233 - accuracy: 0.9950 - val_loss: 0.0269 - val_accuracy: 0.9883\n",
            "Epoch 9/10\n",
            "8/8 [==============================] - 29s 4s/step - loss: 0.0117 - accuracy: 0.9975 - val_loss: 0.0191 - val_accuracy: 0.9933\n",
            "Epoch 10/10\n",
            "8/8 [==============================] - 29s 4s/step - loss: 0.0062 - accuracy: 0.9986 - val_loss: 0.0109 - val_accuracy: 1.0000\n",
            "19/19 [==============================] - 1s 74ms/step - loss: 0.0109 - accuracy: 1.0000\n",
            "Accuracy =  100.0 %\n"
          ]
        },
        {
          "data": {
            "image/png": "[encoded data removed]",
            "text/plain": [
              "<Figure size 640x480 with 1 Axes>"
            ]
          },
          "metadata": {},
          "output_type": "display_data"
        }
      ],
      "source": [
        "history = model.fit(X_train,y_train,steps_per_epoch = 8,epochs = 10,verbose=1,validation_data=(X_test,y_test))\n",
        "_, acc = model.evaluate(X_test, y_test)\n",
        "print(\"Accuracy = \", (acc * 100.0), \"%\")\n",
        "\n",
        "accuracy = history.history['accuracy']\n",
        "val_accuracy = history.history['val_accuracy']\n",
        "epochs = range(1, len(accuracy) + 1)\n",
        "plt.plot(epochs, accuracy, 'y', label='Training accuracy')\n",
        "plt.plot(epochs, val_accuracy, 'r', label='Validation accuracy')\n",
        "plt.title('Training and validation accuracy')\n",
        "plt.xlabel('Epochs')\n",
        "plt.ylabel('Loss')\n",
        "plt.legend()\n",
        "plt.show()"
      ]
    },
    {
      "cell_type": "code",
      "execution_count": 18,
      "metadata": {
        "id": "lOFN3gG0_0Fe"
      },
      "outputs": [],
      "source": [
        "model.save(\"spill_detect_model.keras\")"
      ]
    },
    {
      "cell_type": "code",
      "execution_count": 13,
      "metadata": {},
      "outputs": [
        {
          "name": "stdout",
          "output_type": "stream",
          "text": [
            "Model: \"sequential\"\n",
            "_________________________________________________________________\n",
            " Layer (type)                Output Shape              Param #   \n",
            "=================================================================\n",
            " conv2d (Conv2D)             (None, 148, 148, 16)      448       \n",
            "                                                                 \n",
            " max_pooling2d (MaxPooling2  (None, 74, 74, 16)        0         \n",
            " D)                                                              \n",
            "                                                                 \n",
            " conv2d_1 (Conv2D)           (None, 72, 72, 32)        4640      \n",
            "                                                                 \n",
            " max_pooling2d_1 (MaxPoolin  (None, 36, 36, 32)        0         \n",
            " g2D)                                                            \n",
            "                                                                 \n",
            " conv2d_2 (Conv2D)           (None, 34, 34, 64)        18496     \n",
            "                                                                 \n",
            " max_pooling2d_2 (MaxPoolin  (None, 17, 17, 64)        0         \n",
            " g2D)                                                            \n",
            "                                                                 \n",
            " flatten (Flatten)           (None, 18496)             0         \n",
            "                                                                 \n",
            " dense (Dense)               (None, 512)               9470464   \n",
            "                                                                 \n",
            " dense_1 (Dense)             (None, 1)                 513       \n",
            "                                                                 \n",
            "=================================================================\n",
            "Total params: 9494561 (36.22 MB)\n",
            "Trainable params: 9494561 (36.22 MB)\n",
            "Non-trainable params: 0 (0.00 Byte)\n",
            "_________________________________________________________________\n"
          ]
        }
      ],
      "source": [
        "model.summary()"
      ]
    }
  ],
  "metadata": {
    "colab": {
      "provenance": []
    },
    "kernelspec": {
      "display_name": "Python 3",
      "name": "python3"
    },
    "language_info": {
      "codemirror_mode": {
        "name": "ipython",
        "version": 3
      },
      "file_extension": ".py",
      "mimetype": "text/x-python",
      "name": "python",
      "nbconvert_exporter": "python",
      "pygments_lexer": "ipython3",
      "version": "3.11.4"
    }
  },
  "nbformat": 4,
  "nbformat_minor": 0
}
